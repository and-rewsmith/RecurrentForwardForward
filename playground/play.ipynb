{
 "cells": [
  {
   "cell_type": "code",
   "execution_count": 2,
   "metadata": {},
   "outputs": [
    {
     "name": "stdout",
     "output_type": "stream",
     "text": [
      "tensor([[0.1000, 0.4000, 0.3000, 0.2000],\n",
      "        [0.2000, 0.5000, 0.1000, 0.2000]])\n"
     ]
    }
   ],
   "source": [
    "import torch\n",
    "\n",
    "def swap_top_two_softmax(tensor):\n",
    "    # Find the top two values along the softmax dimension\n",
    "    top2_values, top2_indices = torch.topk(tensor, 2, dim=1)\n",
    "    \n",
    "    # Clone the original tensor so we can modify it\n",
    "    swapped_tensor = tensor.clone()\n",
    "    \n",
    "    # Create a tensor of batch indices\n",
    "    batch_indices = torch.arange(tensor.size(0))\n",
    "    \n",
    "    # Get the indices of the top two values\n",
    "    max_indices = top2_indices[:, 0]  # Highest value indices\n",
    "    second_max_indices = top2_indices[:, 1]  # Second highest value indices\n",
    "    \n",
    "    # Swap the values by indexing per batch\n",
    "    swapped_tensor[batch_indices, max_indices] = top2_values[:, 1]  # Place second highest value at highest index\n",
    "    swapped_tensor[batch_indices, second_max_indices] = top2_values[:, 0]  # Place highest value at second highest index\n",
    "    \n",
    "    return swapped_tensor\n",
    "\n",
    "# Example usage\n",
    "tensor = torch.tensor([[0.1, 0.3, 0.4, 0.2],\n",
    "                       [0.5, 0.2, 0.1, 0.2]])\n",
    "swapped_tensor = swap_top_two_softmax(tensor)\n",
    "print(swapped_tensor)"
   ]
  }
 ],
 "metadata": {
  "kernelspec": {
   "display_name": "env",
   "language": "python",
   "name": "python3"
  },
  "language_info": {
   "codemirror_mode": {
    "name": "ipython",
    "version": 3
   },
   "file_extension": ".py",
   "mimetype": "text/x-python",
   "name": "python",
   "nbconvert_exporter": "python",
   "pygments_lexer": "ipython3",
   "version": "3.11.0rc1"
  },
  "orig_nbformat": 4
 },
 "nbformat": 4,
 "nbformat_minor": 2
}
