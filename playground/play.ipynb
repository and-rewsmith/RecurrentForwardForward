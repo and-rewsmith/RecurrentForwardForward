{
 "cells": [
  {
   "cell_type": "code",
   "execution_count": 2,
   "metadata": {},
   "outputs": [
    {
     "name": "stdout",
     "output_type": "stream",
     "text": [
      "tensor([[0.1000, 0.4000, 0.3000, 0.2000],\n",
      "        [0.2000, 0.5000, 0.1000, 0.2000]])\n"
     ]
    }
   ],
   "source": [
    "import torch\n",
    "\n",
    "def swap_top_two_softmax(tensor):\n",
    "    # Find the top two values along the softmax dimension\n",
    "    top2_values, top2_indices = torch.topk(tensor, 2, dim=1)\n",
    "    \n",
    "    # Clone the original tensor so we can modify it\n",
    "    swapped_tensor = tensor.clone()\n",
    "    \n",
    "    # Create a tensor of batch indices\n",
    "    batch_indices = torch.arange(tensor.size(0))\n",
    "    \n",
    "    # Get the indices of the top two values\n",
    "    max_indices = top2_indices[:, 0]  # Highest value indices\n",
    "    second_max_indices = top2_indices[:, 1]  # Second highest value indices\n",
    "    \n",
    "    # Swap the values by indexing per batch\n",
    "    swapped_tensor[batch_indices, max_indices] = top2_values[:, 1]  # Place second highest value at highest index\n",
    "    swapped_tensor[batch_indices, second_max_indices] = top2_values[:, 0]  # Place highest value at second highest index\n",
    "    \n",
    "    return swapped_tensor\n",
    "\n",
    "# Example usage\n",
    "tensor = torch.tensor([[0.1, 0.3, 0.4, 0.2],\n",
    "                       [0.5, 0.2, 0.1, 0.2]])\n",
    "swapped_tensor = swap_top_two_softmax(tensor)\n",
    "print(swapped_tensor)"
   ]
  },
  {
   "cell_type": "code",
   "execution_count": 5,
   "metadata": {},
   "outputs": [
    {
     "data": {
      "text/plain": [
       "(tensor(0.7000), tensor(False))"
      ]
     },
     "execution_count": 5,
     "metadata": {},
     "output_type": "execute_result"
    }
   ],
   "source": [
    "# Updated function without prints and assuming label data is passed directly\n",
    "def is_confident(softmax_output, correct_labels):\n",
    "    # Convert one-hot encoded labels to indices (get the correct class indices)\n",
    "    correct_indices = torch.argmax(correct_labels, dim=1)  # [batch_size]\n",
    "    \n",
    "    # Gather the softmax probabilities of the correct class for each example in the batch\n",
    "    correct_class_probs = softmax_output.gather(1, correct_indices.unsqueeze(1)).squeeze()\n",
    "\n",
    "    # Check if the average of the correct class probabilities is above 90%\n",
    "    avg_confidence = torch.mean(correct_class_probs)\n",
    "    \n",
    "    # Return a boolean indicating if average confidence is over 90%\n",
    "    return avg_confidence, avg_confidence > 0.90\n",
    "\n",
    "# Sample scenario\n",
    "\n",
    "# Simulated softmax output (batch_size = 3, softmax_dim = 4)\n",
    "softmax_output = torch.tensor([\n",
    "    [0.1, 0.2, 0.6, 0.1],  # Example 1\n",
    "    [0.05, 0.8, 0.1, 0.05],  # Example 2\n",
    "    [0.7, 0.15, 0.1, 0.05]   # Example 3\n",
    "])\n",
    "\n",
    "# Simulated label data (batch_size = 3, one_hot_dim = 4)\n",
    "correct_labels = torch.tensor([\n",
    "    [0, 0, 1, 0],  # Correct class is index 2\n",
    "    [0, 1, 0, 0],  # Correct class is index 1\n",
    "    [1, 0, 0, 0]   # Correct class is index 0\n",
    "])\n",
    "\n",
    "# Test the function\n",
    "is_confident(softmax_output, correct_labels)\n"
   ]
  },
  {
   "cell_type": "code",
   "execution_count": 9,
   "metadata": {},
   "outputs": [
    {
     "name": "stdout",
     "output_type": "stream",
     "text": [
      "tensor([[0.5465, 0.3315, 0.1220],\n",
      "        [0.1402, 0.6285, 0.2312]])\n",
      "tensor([[0.7361, 0.0996, 0.1643],\n",
      "        [0.1643, 0.7361, 0.0996]])\n"
     ]
    }
   ],
   "source": [
    "import torch\n",
    "import torch.nn.functional as F\n",
    "\n",
    "def zero_correct_class_softmax(logits, correct_classes):\n",
    "    # Set a large negative value for logits at the index of the correct class\n",
    "    modified_logits = logits.clone()  # Clone to avoid modifying original logits in-place\n",
    "    modified_logits[correct_classes == 1] = -1e9  # Use a very large negative value\n",
    "    \n",
    "    # Apply softmax to the modified logits\n",
    "    softmax_output = F.softmax(modified_logits, dim=1)\n",
    "    return softmax_output\n",
    "\n",
    "# Example usage\n",
    "logits = torch.tensor([[2.0, 1.5, 0.5], [0.5, 2.0, 1.0]], dtype=torch.float32)\n",
    "correct_classes = torch.tensor([[0, 1, 0], [0, 0, 1]], dtype=torch.float32)  # One-hot encoded correct classes\n",
    "\n",
    "result = zero_correct_class_softmax(logits, correct_classes)\n",
    "print(torch.softmax(logits, dim=1))\n",
    "print(result)\n"
   ]
  }
 ],
 "metadata": {
  "kernelspec": {
   "display_name": "env",
   "language": "python",
   "name": "python3"
  },
  "language_info": {
   "codemirror_mode": {
    "name": "ipython",
    "version": 3
   },
   "file_extension": ".py",
   "mimetype": "text/x-python",
   "name": "python",
   "nbconvert_exporter": "python",
   "pygments_lexer": "ipython3",
   "version": "3.11.0rc1"
  },
  "orig_nbformat": 4
 },
 "nbformat": 4,
 "nbformat_minor": 2
}
