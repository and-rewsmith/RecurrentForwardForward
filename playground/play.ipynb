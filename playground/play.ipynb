{
 "cells": [
  {
   "cell_type": "code",
   "execution_count": 2,
   "metadata": {},
   "outputs": [
    {
     "name": "stdout",
     "output_type": "stream",
     "text": [
      "tensor([[0.1000, 0.4000, 0.3000, 0.2000],\n",
      "        [0.2000, 0.5000, 0.1000, 0.2000]])\n"
     ]
    }
   ],
   "source": [
    "import torch\n",
    "\n",
    "def swap_top_two_softmax(tensor):\n",
    "    # Find the top two values along the softmax dimension\n",
    "    top2_values, top2_indices = torch.topk(tensor, 2, dim=1)\n",
    "    \n",
    "    # Clone the original tensor so we can modify it\n",
    "    swapped_tensor = tensor.clone()\n",
    "    \n",
    "    # Create a tensor of batch indices\n",
    "    batch_indices = torch.arange(tensor.size(0))\n",
    "    \n",
    "    # Get the indices of the top two values\n",
    "    max_indices = top2_indices[:, 0]  # Highest value indices\n",
    "    second_max_indices = top2_indices[:, 1]  # Second highest value indices\n",
    "    \n",
    "    # Swap the values by indexing per batch\n",
    "    swapped_tensor[batch_indices, max_indices] = top2_values[:, 1]  # Place second highest value at highest index\n",
    "    swapped_tensor[batch_indices, second_max_indices] = top2_values[:, 0]  # Place highest value at second highest index\n",
    "    \n",
    "    return swapped_tensor\n",
    "\n",
    "# Example usage\n",
    "tensor = torch.tensor([[0.1, 0.3, 0.4, 0.2],\n",
    "                       [0.5, 0.2, 0.1, 0.2]])\n",
    "swapped_tensor = swap_top_two_softmax(tensor)\n",
    "print(swapped_tensor)"
   ]
  },
  {
   "cell_type": "code",
   "execution_count": 5,
   "metadata": {},
   "outputs": [
    {
     "data": {
      "text/plain": [
       "(tensor(0.7000), tensor(False))"
      ]
     },
     "execution_count": 5,
     "metadata": {},
     "output_type": "execute_result"
    }
   ],
   "source": [
    "# Updated function without prints and assuming label data is passed directly\n",
    "def is_confident(softmax_output, correct_labels):\n",
    "    # Convert one-hot encoded labels to indices (get the correct class indices)\n",
    "    correct_indices = torch.argmax(correct_labels, dim=1)  # [batch_size]\n",
    "    \n",
    "    # Gather the softmax probabilities of the correct class for each example in the batch\n",
    "    correct_class_probs = softmax_output.gather(1, correct_indices.unsqueeze(1)).squeeze()\n",
    "\n",
    "    # Check if the average of the correct class probabilities is above 90%\n",
    "    avg_confidence = torch.mean(correct_class_probs)\n",
    "    \n",
    "    # Return a boolean indicating if average confidence is over 90%\n",
    "    return avg_confidence, avg_confidence > 0.90\n",
    "\n",
    "# Sample scenario\n",
    "\n",
    "# Simulated softmax output (batch_size = 3, softmax_dim = 4)\n",
    "softmax_output = torch.tensor([\n",
    "    [0.1, 0.2, 0.6, 0.1],  # Example 1\n",
    "    [0.05, 0.8, 0.1, 0.05],  # Example 2\n",
    "    [0.7, 0.15, 0.1, 0.05]   # Example 3\n",
    "])\n",
    "\n",
    "# Simulated label data (batch_size = 3, one_hot_dim = 4)\n",
    "correct_labels = torch.tensor([\n",
    "    [0, 0, 1, 0],  # Correct class is index 2\n",
    "    [0, 1, 0, 0],  # Correct class is index 1\n",
    "    [1, 0, 0, 0]   # Correct class is index 0\n",
    "])\n",
    "\n",
    "# Test the function\n",
    "is_confident(softmax_output, correct_labels)\n"
   ]
  },
  {
   "cell_type": "code",
   "execution_count": 10,
   "metadata": {},
   "outputs": [
    {
     "name": "stdout",
     "output_type": "stream",
     "text": [
      "tensor([[0.5465, 0.3315, 0.1220],\n",
      "        [0.1402, 0.6285, 0.2312]])\n",
      "tensor([[0.8176, 0.0000, 0.1824],\n",
      "        [0.1824, 0.8176, 0.0000]])\n"
     ]
    }
   ],
   "source": [
    "import torch\n",
    "import torch.nn.functional as F\n",
    "\n",
    "def zero_correct_class_softmax(logits, correct_classes):\n",
    "    # Set a large negative value for logits at the index of the correct class\n",
    "    modified_logits = logits.clone()  # Clone to avoid modifying original logits in-place\n",
    "    modified_logits[correct_classes == 1] = -1e9  # Use a very large negative value\n",
    "    \n",
    "    # Apply softmax to the modified logits\n",
    "    softmax_output = F.softmax(modified_logits, dim=1)\n",
    "    return softmax_output\n",
    "\n",
    "# Example usage\n",
    "logits = torch.tensor([[2.0, 1.5, 0.5], [0.5, 2.0, 1.0]], dtype=torch.float32)\n",
    "correct_classes = torch.tensor([[0, 1, 0], [0, 0, 1]], dtype=torch.float32)  # One-hot encoded correct classes\n",
    "\n",
    "result = zero_correct_class_softmax(logits, correct_classes)\n",
    "print(torch.softmax(logits, dim=1))\n",
    "print(result)\n"
   ]
  },
  {
   "cell_type": "code",
   "execution_count": 19,
   "metadata": {},
   "outputs": [
    {
     "ename": "TypeError",
     "evalue": "'>' not supported between instances of 'Tensor' and 'str'",
     "output_type": "error",
     "traceback": [
      "\u001b[0;31m---------------------------------------------------------------------------\u001b[0m",
      "\u001b[0;31mTypeError\u001b[0m                                 Traceback (most recent call last)",
      "Cell \u001b[0;32mIn[19], line 38\u001b[0m\n\u001b[1;32m     36\u001b[0m \u001b[39m# Test the function\u001b[39;00m\n\u001b[1;32m     37\u001b[0m confidence_threshold \u001b[39m=\u001b[39m \u001b[39m\"\u001b[39m\u001b[39m0.8\u001b[39m\u001b[39m\"\u001b[39m\n\u001b[0;32m---> 38\u001b[0m conf_probs, all_above_threshold \u001b[39m=\u001b[39m is_confident(softmax_output, correct_labels, confidence_threshold)\n\u001b[1;32m     39\u001b[0m conf_probs, all_above_threshold\n",
      "Cell \u001b[0;32mIn[19], line 12\u001b[0m, in \u001b[0;36mis_confident\u001b[0;34m(softmax_output, correct_labels, confidence_threshold)\u001b[0m\n\u001b[1;32m      9\u001b[0m correct_class_probs \u001b[39m=\u001b[39m softmax_output\u001b[39m.\u001b[39mgather(\u001b[39m1\u001b[39m, correct_indices\u001b[39m.\u001b[39munsqueeze(\u001b[39m1\u001b[39m))\u001b[39m.\u001b[39msqueeze()\n\u001b[1;32m     11\u001b[0m \u001b[39m# Check if all of the correct class probabilities are above the confidence threshold\u001b[39;00m\n\u001b[0;32m---> 12\u001b[0m all_confident \u001b[39m=\u001b[39m torch\u001b[39m.\u001b[39mall(correct_class_probs \u001b[39m>\u001b[39;49m confidence_threshold)\n\u001b[1;32m     14\u001b[0m \u001b[39m# Calculate the average confidence\u001b[39;00m\n\u001b[1;32m     15\u001b[0m avg_confidence \u001b[39m=\u001b[39m torch\u001b[39m.\u001b[39mmean(correct_class_probs)\n",
      "\u001b[0;31mTypeError\u001b[0m: '>' not supported between instances of 'Tensor' and 'str'"
     ]
    }
   ],
   "source": [
    "import torch\n",
    "\n",
    "# Updated function without prints and assuming label data is passed directly\n",
    "def is_confident(softmax_output, correct_labels, confidence_threshold):\n",
    "    # Convert one-hot encoded labels to indices (get the correct class indices)\n",
    "    correct_indices = torch.argmax(correct_labels, dim=1)  # [batch_size]\n",
    "    \n",
    "    # Gather the softmax probabilities of the correct class for each example in the batch\n",
    "    correct_class_probs = softmax_output.gather(1, correct_indices.unsqueeze(1)).squeeze()\n",
    "\n",
    "    # Check if all of the correct class probabilities are above the confidence threshold\n",
    "    all_confident = torch.all(correct_class_probs > confidence_threshold)\n",
    "\n",
    "    # Calculate the average confidence\n",
    "    avg_confidence = torch.mean(correct_class_probs)\n",
    "\n",
    "    # Return the confidence probabilities, average confidence, and whether all are above the threshold\n",
    "    return avg_confidence.item(), all_confident.item()\n",
    "\n",
    "# Sample scenario\n",
    "\n",
    "# Simulated softmax output (batch_size = 3, softmax_dim = 4)\n",
    "softmax_output = torch.tensor([\n",
    "    [0.1, 0.2, 0.6, 0.1],  # Example 1\n",
    "    [0.05, 0.8, 0.1, 0.05],  # Example 2\n",
    "    [0.7, 0.15, 0.1, 0.05]   # Example 3\n",
    "])\n",
    "\n",
    "# Simulated label data (batch_size = 3, one_hot_dim = 4)\n",
    "correct_labels = torch.tensor([\n",
    "    [0, 0, 1, 0],  # Correct class is index 2\n",
    "    [0, 1, 0, 0],  # Correct class is index 1\n",
    "    [1, 0, 0, 0]   # Correct class is index 0\n",
    "])\n",
    "\n",
    "# Test the function\n",
    "confidence_threshold = 0.8\n",
    "conf_probs, all_above_threshold = is_confident(softmax_output, correct_labels, confidence_threshold)\n",
    "conf_probs, all_above_threshold"
   ]
  },
  {
   "cell_type": "code",
   "execution_count": 16,
   "metadata": {},
   "outputs": [
    {
     "data": {
      "text/plain": [
       "66.66666666666666"
      ]
     },
     "execution_count": 16,
     "metadata": {},
     "output_type": "execute_result"
    }
   ],
   "source": [
    "import torch\n",
    "\n",
    "# Function to check the percentage of correct softmax values above a given threshold\n",
    "def percent_above_threshold(softmax_output, correct_labels, confidence_threshold):\n",
    "    # Convert one-hot encoded labels to indices (get the correct class indices)\n",
    "    correct_indices = torch.argmax(correct_labels, dim=1)  # [batch_size]\n",
    "    \n",
    "    # Gather the softmax probabilities of the correct class for each example in the batch\n",
    "    correct_class_probs = softmax_output.gather(1, correct_indices.unsqueeze(1)).squeeze()\n",
    "\n",
    "    # Check how many of the correct class probabilities are above the confidence threshold\n",
    "    num_above_threshold = torch.sum(correct_class_probs > confidence_threshold).item()\n",
    "\n",
    "    # Calculate the percentage of softmax values that are above the threshold\n",
    "    percent_above = (num_above_threshold / correct_class_probs.size(0)) * 100\n",
    "\n",
    "    # Return the percentage\n",
    "    return percent_above\n",
    "\n",
    "# Sample scenario\n",
    "\n",
    "# Simulated softmax output (batch_size = 3, softmax_dim = 4)\n",
    "softmax_output = torch.tensor([\n",
    "    [0.1, 0.2, 0.6, 0.1],  # Example 1\n",
    "    [0.05, 0.8, 0.1, 0.05],  # Example 2\n",
    "    [0.7, 0.15, 0.1, 0.05]   # Example 3\n",
    "])\n",
    "\n",
    "# Simulated label data (batch_size = 3, one_hot_dim = 4)\n",
    "correct_labels = torch.tensor([\n",
    "    [0, 0, 1, 0],  # Correct class is index 2\n",
    "    [0, 1, 0, 0],  # Correct class is index 1\n",
    "    [1, 0, 0, 0]   # Correct class is index 0\n",
    "])\n",
    "\n",
    "# Test the function\n",
    "confidence_threshold = 0.69\n",
    "percent_above = percent_above_threshold(softmax_output, correct_labels, confidence_threshold)\n",
    "percent_above"
   ]
  }
 ],
 "metadata": {
  "kernelspec": {
   "display_name": "env",
   "language": "python",
   "name": "python3"
  },
  "language_info": {
   "codemirror_mode": {
    "name": "ipython",
    "version": 3
   },
   "file_extension": ".py",
   "mimetype": "text/x-python",
   "name": "python",
   "nbconvert_exporter": "python",
   "pygments_lexer": "ipython3",
   "version": "3.11.0rc1"
  },
  "orig_nbformat": 4
 },
 "nbformat": 4,
 "nbformat_minor": 2
}
